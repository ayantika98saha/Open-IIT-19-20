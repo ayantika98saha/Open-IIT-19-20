{
 "cells": [
  {
   "cell_type": "code",
   "execution_count": 244,
   "metadata": {},
   "outputs": [],
   "source": [
    "import pandas as pd\n",
    "#!pip install xgboost\n",
    "#from __future__ import division\n",
    "import numpy as np\n",
    "import pandas as pd\n",
    "import matplotlib.pyplot as plt\n",
    "import xgboost\n",
    "import math\n",
    "import seaborn as sns\n",
    "import sklearn\n",
    "from scipy.stats import pearsonr\n",
    "from sklearn.linear_model import LinearRegression\n",
    "from sklearn import tree, linear_model\n",
    "from sklearn.model_selection import train_test_split\n",
    "from sklearn.metrics import explained_variance_score\n",
    "from sklearn.model_selection import cross_validate\n",
    "from sklearn.metrics import r2_score\n",
    "from scipy import stats\n",
    "from scipy.special import boxcox, inv_boxcox\n",
    "from sklearn.model_selection import StratifiedKFold\n",
    "from scipy.stats import norm\n",
    "import numpy as np \n",
    "from sklearn.feature_selection import RFECV"
   ]
  },
  {
   "cell_type": "code",
   "execution_count": 330,
   "metadata": {},
   "outputs": [],
   "source": [
    "data=pd.read_csv('file4.csv')"
   ]
  },
  {
   "cell_type": "code",
   "execution_count": 331,
   "metadata": {},
   "outputs": [
    {
     "data": {
      "text/html": [
       "<div>\n",
       "<style scoped>\n",
       "    .dataframe tbody tr th:only-of-type {\n",
       "        vertical-align: middle;\n",
       "    }\n",
       "\n",
       "    .dataframe tbody tr th {\n",
       "        vertical-align: top;\n",
       "    }\n",
       "\n",
       "    .dataframe thead th {\n",
       "        text-align: right;\n",
       "    }\n",
       "</style>\n",
       "<table border=\"1\" class=\"dataframe\">\n",
       "  <thead>\n",
       "    <tr style=\"text-align: right;\">\n",
       "      <th></th>\n",
       "      <th>Unnamed: 0</th>\n",
       "      <th>Customer</th>\n",
       "      <th>Customer Lifetime Value</th>\n",
       "      <th>Income</th>\n",
       "      <th>Monthly Premium Auto</th>\n",
       "      <th>Months Since Last Claim</th>\n",
       "      <th>Months Since Policy Inception</th>\n",
       "      <th>Number of Open Complaints</th>\n",
       "      <th>Number of Policies</th>\n",
       "      <th>Total Claim Amount</th>\n",
       "      <th>...</th>\n",
       "      <th>category_Oregon_Rural</th>\n",
       "      <th>category_Oregon_Suburban</th>\n",
       "      <th>category_Oregon_Urban</th>\n",
       "      <th>category_Washington_Rural</th>\n",
       "      <th>category_Washington_Suburban</th>\n",
       "      <th>category_Washington_Urban</th>\n",
       "      <th>category_Agent</th>\n",
       "      <th>category_Branch</th>\n",
       "      <th>category_Call Center</th>\n",
       "      <th>category_Web</th>\n",
       "    </tr>\n",
       "  </thead>\n",
       "  <tbody>\n",
       "    <tr>\n",
       "      <th>0</th>\n",
       "      <td>0</td>\n",
       "      <td>BU79786</td>\n",
       "      <td>2763.519279</td>\n",
       "      <td>56274</td>\n",
       "      <td>69</td>\n",
       "      <td>32</td>\n",
       "      <td>5</td>\n",
       "      <td>0</td>\n",
       "      <td>1</td>\n",
       "      <td>384.811147</td>\n",
       "      <td>...</td>\n",
       "      <td>0</td>\n",
       "      <td>0</td>\n",
       "      <td>0</td>\n",
       "      <td>0</td>\n",
       "      <td>1</td>\n",
       "      <td>0</td>\n",
       "      <td>1</td>\n",
       "      <td>0</td>\n",
       "      <td>0</td>\n",
       "      <td>0</td>\n",
       "    </tr>\n",
       "    <tr>\n",
       "      <th>1</th>\n",
       "      <td>1</td>\n",
       "      <td>QZ44356</td>\n",
       "      <td>6979.535903</td>\n",
       "      <td>0</td>\n",
       "      <td>94</td>\n",
       "      <td>13</td>\n",
       "      <td>42</td>\n",
       "      <td>0</td>\n",
       "      <td>8</td>\n",
       "      <td>1131.464935</td>\n",
       "      <td>...</td>\n",
       "      <td>0</td>\n",
       "      <td>0</td>\n",
       "      <td>0</td>\n",
       "      <td>0</td>\n",
       "      <td>0</td>\n",
       "      <td>0</td>\n",
       "      <td>1</td>\n",
       "      <td>0</td>\n",
       "      <td>0</td>\n",
       "      <td>0</td>\n",
       "    </tr>\n",
       "    <tr>\n",
       "      <th>2</th>\n",
       "      <td>2</td>\n",
       "      <td>AI49188</td>\n",
       "      <td>12887.431650</td>\n",
       "      <td>48767</td>\n",
       "      <td>108</td>\n",
       "      <td>18</td>\n",
       "      <td>38</td>\n",
       "      <td>0</td>\n",
       "      <td>2</td>\n",
       "      <td>566.472247</td>\n",
       "      <td>...</td>\n",
       "      <td>0</td>\n",
       "      <td>0</td>\n",
       "      <td>0</td>\n",
       "      <td>0</td>\n",
       "      <td>0</td>\n",
       "      <td>0</td>\n",
       "      <td>1</td>\n",
       "      <td>0</td>\n",
       "      <td>0</td>\n",
       "      <td>0</td>\n",
       "    </tr>\n",
       "    <tr>\n",
       "      <th>3</th>\n",
       "      <td>3</td>\n",
       "      <td>WW63253</td>\n",
       "      <td>7645.861827</td>\n",
       "      <td>0</td>\n",
       "      <td>106</td>\n",
       "      <td>18</td>\n",
       "      <td>65</td>\n",
       "      <td>0</td>\n",
       "      <td>7</td>\n",
       "      <td>529.881344</td>\n",
       "      <td>...</td>\n",
       "      <td>0</td>\n",
       "      <td>0</td>\n",
       "      <td>0</td>\n",
       "      <td>0</td>\n",
       "      <td>0</td>\n",
       "      <td>0</td>\n",
       "      <td>0</td>\n",
       "      <td>0</td>\n",
       "      <td>1</td>\n",
       "      <td>0</td>\n",
       "    </tr>\n",
       "    <tr>\n",
       "      <th>4</th>\n",
       "      <td>4</td>\n",
       "      <td>HB64268</td>\n",
       "      <td>2813.692575</td>\n",
       "      <td>43836</td>\n",
       "      <td>73</td>\n",
       "      <td>12</td>\n",
       "      <td>44</td>\n",
       "      <td>0</td>\n",
       "      <td>1</td>\n",
       "      <td>138.130879</td>\n",
       "      <td>...</td>\n",
       "      <td>0</td>\n",
       "      <td>0</td>\n",
       "      <td>0</td>\n",
       "      <td>1</td>\n",
       "      <td>0</td>\n",
       "      <td>0</td>\n",
       "      <td>1</td>\n",
       "      <td>0</td>\n",
       "      <td>0</td>\n",
       "      <td>0</td>\n",
       "    </tr>\n",
       "  </tbody>\n",
       "</table>\n",
       "<p>5 rows × 65 columns</p>\n",
       "</div>"
      ],
      "text/plain": [
       "   Unnamed: 0 Customer  Customer Lifetime Value  Income  Monthly Premium Auto  \\\n",
       "0           0  BU79786              2763.519279   56274                    69   \n",
       "1           1  QZ44356              6979.535903       0                    94   \n",
       "2           2  AI49188             12887.431650   48767                   108   \n",
       "3           3  WW63253              7645.861827       0                   106   \n",
       "4           4  HB64268              2813.692575   43836                    73   \n",
       "\n",
       "   Months Since Last Claim  Months Since Policy Inception  \\\n",
       "0                       32                              5   \n",
       "1                       13                             42   \n",
       "2                       18                             38   \n",
       "3                       18                             65   \n",
       "4                       12                             44   \n",
       "\n",
       "   Number of Open Complaints  Number of Policies  Total Claim Amount  ...  \\\n",
       "0                          0                   1          384.811147  ...   \n",
       "1                          0                   8         1131.464935  ...   \n",
       "2                          0                   2          566.472247  ...   \n",
       "3                          0                   7          529.881344  ...   \n",
       "4                          0                   1          138.130879  ...   \n",
       "\n",
       "   category_Oregon_Rural  category_Oregon_Suburban  category_Oregon_Urban  \\\n",
       "0                      0                         0                      0   \n",
       "1                      0                         0                      0   \n",
       "2                      0                         0                      0   \n",
       "3                      0                         0                      0   \n",
       "4                      0                         0                      0   \n",
       "\n",
       "   category_Washington_Rural  category_Washington_Suburban  \\\n",
       "0                          0                             1   \n",
       "1                          0                             0   \n",
       "2                          0                             0   \n",
       "3                          0                             0   \n",
       "4                          1                             0   \n",
       "\n",
       "   category_Washington_Urban  category_Agent  category_Branch  \\\n",
       "0                          0               1                0   \n",
       "1                          0               1                0   \n",
       "2                          0               1                0   \n",
       "3                          0               0                0   \n",
       "4                          0               1                0   \n",
       "\n",
       "   category_Call Center  category_Web  \n",
       "0                     0             0  \n",
       "1                     0             0  \n",
       "2                     0             0  \n",
       "3                     1             0  \n",
       "4                     0             0  \n",
       "\n",
       "[5 rows x 65 columns]"
      ]
     },
     "execution_count": 331,
     "metadata": {},
     "output_type": "execute_result"
    }
   ],
   "source": [
    "data.head()"
   ]
  },
  {
   "cell_type": "code",
   "execution_count": 332,
   "metadata": {},
   "outputs": [],
   "source": [
    "data=data.drop(['Unnamed: 0'],axis=1)"
   ]
  },
  {
   "cell_type": "code",
   "execution_count": 333,
   "metadata": {},
   "outputs": [
    {
     "data": {
      "text/plain": [
       "Index(['Customer', 'Customer Lifetime Value', 'Income', 'Monthly Premium Auto',\n",
       "       'Months Since Last Claim', 'Months Since Policy Inception',\n",
       "       'Number of Open Complaints', 'Number of Policies', 'Total Claim Amount',\n",
       "       'CLV Compl', 'category_Basic', 'category_Extended', 'category_Premium',\n",
       "       'category_Bachelor', 'category_College', 'category_Doctor',\n",
       "       'category_High School or Below', 'category_Master', 'category_Disabled',\n",
       "       'category_Employed', 'category_Medical Leave', 'category_Retired',\n",
       "       'category_Unemployed', 'category_Divorced', 'category_Married',\n",
       "       'category_Single', 'category_Corporate L1', 'category_Corporate L2',\n",
       "       'category_Corporate L3', 'category_Personal L1', 'category_Personal L2',\n",
       "       'category_Personal L3', 'category_Special L1', 'category_Special L2',\n",
       "       'category_Special L3', 'category_Four-Door Car_Vehicle Size',\n",
       "       'category_Luxury Car_Vehicle Size', 'category_Luxury SUV_Vehicle Size',\n",
       "       'category_SUV_Vehicle Size', 'category_Sports Car_Vehicle Size',\n",
       "       'category_Two-Door Car_Vehicle Size', 'category_Offer1',\n",
       "       'category_Offer2', 'category_Offer3', 'category_Offer4',\n",
       "       'category_Arizona_Rural', 'category_Arizona_Suburban',\n",
       "       'category_Arizona_Urban', 'category_California_Rural',\n",
       "       'category_California_Suburban', 'category_California_Urban',\n",
       "       'category_Nevada_Rural', 'category_Nevada_Suburban',\n",
       "       'category_Nevada_Urban', 'category_Oregon_Rural',\n",
       "       'category_Oregon_Suburban', 'category_Oregon_Urban',\n",
       "       'category_Washington_Rural', 'category_Washington_Suburban',\n",
       "       'category_Washington_Urban', 'category_Agent', 'category_Branch',\n",
       "       'category_Call Center', 'category_Web'],\n",
       "      dtype='object')"
      ]
     },
     "execution_count": 333,
     "metadata": {},
     "output_type": "execute_result"
    }
   ],
   "source": [
    "data.columns"
   ]
  },
  {
   "cell_type": "code",
   "execution_count": 334,
   "metadata": {},
   "outputs": [
    {
     "data": {
      "text/plain": [
       "(9134,)"
      ]
     },
     "execution_count": 334,
     "metadata": {},
     "output_type": "execute_result"
    }
   ],
   "source": [
    "new_data = data[data.columns]\n",
    "new_data=new_data.drop(['Customer Lifetime Value'],axis=1)\n",
    "X = new_data\n",
    "y = data['Customer Lifetime Value']\n",
    "y.shape"
   ]
  },
  {
   "cell_type": "code",
   "execution_count": 335,
   "metadata": {},
   "outputs": [],
   "source": [
    "p=X\n",
    "p1=X['Customer']\n",
    "p=p.drop(['Customer'],axis=1)\n",
    "p2=y"
   ]
  },
  {
   "cell_type": "code",
   "execution_count": 336,
   "metadata": {},
   "outputs": [
    {
     "data": {
      "text/html": [
       "<div>\n",
       "<style scoped>\n",
       "    .dataframe tbody tr th:only-of-type {\n",
       "        vertical-align: middle;\n",
       "    }\n",
       "\n",
       "    .dataframe tbody tr th {\n",
       "        vertical-align: top;\n",
       "    }\n",
       "\n",
       "    .dataframe thead th {\n",
       "        text-align: right;\n",
       "    }\n",
       "</style>\n",
       "<table border=\"1\" class=\"dataframe\">\n",
       "  <thead>\n",
       "    <tr style=\"text-align: right;\">\n",
       "      <th></th>\n",
       "      <th>Customer</th>\n",
       "      <th>Income</th>\n",
       "      <th>Monthly Premium Auto</th>\n",
       "      <th>Months Since Last Claim</th>\n",
       "      <th>Months Since Policy Inception</th>\n",
       "      <th>Number of Open Complaints</th>\n",
       "      <th>Number of Policies</th>\n",
       "      <th>Total Claim Amount</th>\n",
       "      <th>CLV Compl</th>\n",
       "      <th>category_Basic</th>\n",
       "      <th>...</th>\n",
       "      <th>category_Oregon_Rural</th>\n",
       "      <th>category_Oregon_Suburban</th>\n",
       "      <th>category_Oregon_Urban</th>\n",
       "      <th>category_Washington_Rural</th>\n",
       "      <th>category_Washington_Suburban</th>\n",
       "      <th>category_Washington_Urban</th>\n",
       "      <th>category_Agent</th>\n",
       "      <th>category_Branch</th>\n",
       "      <th>category_Call Center</th>\n",
       "      <th>category_Web</th>\n",
       "    </tr>\n",
       "  </thead>\n",
       "  <tbody>\n",
       "    <tr>\n",
       "      <th>5025</th>\n",
       "      <td>QE73187</td>\n",
       "      <td>66152</td>\n",
       "      <td>111</td>\n",
       "      <td>14</td>\n",
       "      <td>18</td>\n",
       "      <td>0</td>\n",
       "      <td>1</td>\n",
       "      <td>532.800000</td>\n",
       "      <td>1373.377251</td>\n",
       "      <td>1</td>\n",
       "      <td>...</td>\n",
       "      <td>0</td>\n",
       "      <td>1</td>\n",
       "      <td>0</td>\n",
       "      <td>0</td>\n",
       "      <td>0</td>\n",
       "      <td>0</td>\n",
       "      <td>0</td>\n",
       "      <td>0</td>\n",
       "      <td>1</td>\n",
       "      <td>0</td>\n",
       "    </tr>\n",
       "    <tr>\n",
       "      <th>2527</th>\n",
       "      <td>RD61361</td>\n",
       "      <td>0</td>\n",
       "      <td>84</td>\n",
       "      <td>0</td>\n",
       "      <td>76</td>\n",
       "      <td>0</td>\n",
       "      <td>4</td>\n",
       "      <td>856.347474</td>\n",
       "      <td>20344.632490</td>\n",
       "      <td>0</td>\n",
       "      <td>...</td>\n",
       "      <td>0</td>\n",
       "      <td>0</td>\n",
       "      <td>0</td>\n",
       "      <td>0</td>\n",
       "      <td>0</td>\n",
       "      <td>0</td>\n",
       "      <td>0</td>\n",
       "      <td>1</td>\n",
       "      <td>0</td>\n",
       "      <td>0</td>\n",
       "    </tr>\n",
       "    <tr>\n",
       "      <th>5589</th>\n",
       "      <td>PK20739</td>\n",
       "      <td>25074</td>\n",
       "      <td>112</td>\n",
       "      <td>17</td>\n",
       "      <td>8</td>\n",
       "      <td>0</td>\n",
       "      <td>2</td>\n",
       "      <td>537.600000</td>\n",
       "      <td>3104.333537</td>\n",
       "      <td>0</td>\n",
       "      <td>...</td>\n",
       "      <td>0</td>\n",
       "      <td>1</td>\n",
       "      <td>0</td>\n",
       "      <td>0</td>\n",
       "      <td>0</td>\n",
       "      <td>0</td>\n",
       "      <td>0</td>\n",
       "      <td>1</td>\n",
       "      <td>0</td>\n",
       "      <td>0</td>\n",
       "    </tr>\n",
       "    <tr>\n",
       "      <th>4848</th>\n",
       "      <td>ZW93288</td>\n",
       "      <td>22705</td>\n",
       "      <td>239</td>\n",
       "      <td>19</td>\n",
       "      <td>59</td>\n",
       "      <td>0</td>\n",
       "      <td>7</td>\n",
       "      <td>1294.700423</td>\n",
       "      <td>84001.847029</td>\n",
       "      <td>0</td>\n",
       "      <td>...</td>\n",
       "      <td>0</td>\n",
       "      <td>0</td>\n",
       "      <td>0</td>\n",
       "      <td>0</td>\n",
       "      <td>0</td>\n",
       "      <td>0</td>\n",
       "      <td>1</td>\n",
       "      <td>0</td>\n",
       "      <td>0</td>\n",
       "      <td>0</td>\n",
       "    </tr>\n",
       "    <tr>\n",
       "      <th>6582</th>\n",
       "      <td>ZL82075</td>\n",
       "      <td>56005</td>\n",
       "      <td>68</td>\n",
       "      <td>31</td>\n",
       "      <td>30</td>\n",
       "      <td>1</td>\n",
       "      <td>3</td>\n",
       "      <td>326.400000</td>\n",
       "      <td>5518.363193</td>\n",
       "      <td>1</td>\n",
       "      <td>...</td>\n",
       "      <td>0</td>\n",
       "      <td>0</td>\n",
       "      <td>0</td>\n",
       "      <td>0</td>\n",
       "      <td>0</td>\n",
       "      <td>0</td>\n",
       "      <td>0</td>\n",
       "      <td>1</td>\n",
       "      <td>0</td>\n",
       "      <td>0</td>\n",
       "    </tr>\n",
       "  </tbody>\n",
       "</table>\n",
       "<p>5 rows × 63 columns</p>\n",
       "</div>"
      ],
      "text/plain": [
       "     Customer  Income  Monthly Premium Auto  Months Since Last Claim  \\\n",
       "5025  QE73187   66152                   111                       14   \n",
       "2527  RD61361       0                    84                        0   \n",
       "5589  PK20739   25074                   112                       17   \n",
       "4848  ZW93288   22705                   239                       19   \n",
       "6582  ZL82075   56005                    68                       31   \n",
       "\n",
       "      Months Since Policy Inception  Number of Open Complaints  \\\n",
       "5025                             18                          0   \n",
       "2527                             76                          0   \n",
       "5589                              8                          0   \n",
       "4848                             59                          0   \n",
       "6582                             30                          1   \n",
       "\n",
       "      Number of Policies  Total Claim Amount     CLV Compl  category_Basic  \\\n",
       "5025                   1          532.800000   1373.377251               1   \n",
       "2527                   4          856.347474  20344.632490               0   \n",
       "5589                   2          537.600000   3104.333537               0   \n",
       "4848                   7         1294.700423  84001.847029               0   \n",
       "6582                   3          326.400000   5518.363193               1   \n",
       "\n",
       "      ...  category_Oregon_Rural  category_Oregon_Suburban  \\\n",
       "5025  ...                      0                         1   \n",
       "2527  ...                      0                         0   \n",
       "5589  ...                      0                         1   \n",
       "4848  ...                      0                         0   \n",
       "6582  ...                      0                         0   \n",
       "\n",
       "      category_Oregon_Urban  category_Washington_Rural  \\\n",
       "5025                      0                          0   \n",
       "2527                      0                          0   \n",
       "5589                      0                          0   \n",
       "4848                      0                          0   \n",
       "6582                      0                          0   \n",
       "\n",
       "      category_Washington_Suburban  category_Washington_Urban  category_Agent  \\\n",
       "5025                             0                          0               0   \n",
       "2527                             0                          0               0   \n",
       "5589                             0                          0               0   \n",
       "4848                             0                          0               1   \n",
       "6582                             0                          0               0   \n",
       "\n",
       "      category_Branch  category_Call Center  category_Web  \n",
       "5025                0                     1             0  \n",
       "2527                1                     0             0  \n",
       "5589                1                     0             0  \n",
       "4848                0                     0             0  \n",
       "6582                1                     0             0  \n",
       "\n",
       "[5 rows x 63 columns]"
      ]
     },
     "execution_count": 336,
     "metadata": {},
     "output_type": "execute_result"
    }
   ],
   "source": [
    "X_train, X_test, y_train, y_test = sklearn.model_selection.train_test_split(X, y ,test_size=0.02)\n",
    "X_train.head()"
   ]
  },
  {
   "cell_type": "code",
   "execution_count": 337,
   "metadata": {},
   "outputs": [
    {
     "name": "stderr",
     "output_type": "stream",
     "text": [
      "/home/ayantika/anaconda3/lib/python3.7/site-packages/ipykernel_launcher.py:2: SettingWithCopyWarning: \n",
      "A value is trying to be set on a copy of a slice from a DataFrame.\n",
      "Try using .loc[row_indexer,col_indexer] = value instead\n",
      "\n",
      "See the caveats in the documentation: http://pandas.pydata.org/pandas-docs/stable/indexing.html#indexing-view-versus-copy\n",
      "  \n",
      "/home/ayantika/anaconda3/lib/python3.7/site-packages/ipykernel_launcher.py:5: SettingWithCopyWarning: \n",
      "A value is trying to be set on a copy of a slice from a DataFrame.\n",
      "Try using .loc[row_indexer,col_indexer] = value instead\n",
      "\n",
      "See the caveats in the documentation: http://pandas.pydata.org/pandas-docs/stable/indexing.html#indexing-view-versus-copy\n",
      "  \"\"\"\n"
     ]
    }
   ],
   "source": [
    "train_data,fitted_lambda = stats.boxcox(X_train['Monthly Premium Auto'])\n",
    "X_train['Monthly Premium Auto'] = train_data\n",
    "# use lambda value to transform test data\n",
    "test_data = stats.boxcox(X_test['Monthly Premium Auto'], fitted_lambda)\n",
    "X_test['Monthly Premium Auto']=test_data"
   ]
  },
  {
   "cell_type": "code",
   "execution_count": 338,
   "metadata": {},
   "outputs": [],
   "source": [
    "y_train_new= np.log(y_train)\n",
    "X_train=X_train.drop(['Customer'],axis=1)\n",
    "y=X_test['Customer']\n",
    "X_test=X_test.drop(['Customer'],axis=1)"
   ]
  },
  {
   "cell_type": "code",
   "execution_count": 339,
   "metadata": {},
   "outputs": [
    {
     "data": {
      "text/plain": [
       "0.7757258715062711"
      ]
     },
     "execution_count": 339,
     "metadata": {},
     "output_type": "execute_result"
    }
   ],
   "source": [
    "from sklearn.ensemble import RandomForestRegressor\n",
    "regressor = RandomForestRegressor(n_estimators = 100, random_state = 0) \n",
    "regressor.fit(X_train, y_train_new) \n",
    "y_pred = regressor.predict(X_test)\n",
    "r2_score(y_test,np.exp(y_pred))"
   ]
  },
  {
   "cell_type": "code",
   "execution_count": 343,
   "metadata": {},
   "outputs": [
    {
     "name": "stdout",
     "output_type": "stream",
     "text": [
      "R2 Score : 0.9442085994618442\n"
     ]
    }
   ],
   "source": [
    "#on training Set\n",
    "predictions_rf = np.exp(regressor.predict(X_train))\n",
    "print(\"R2 Score :\",r2_score(y_train, predictions_rf))\n"
   ]
  },
  {
   "cell_type": "code",
   "execution_count": 340,
   "metadata": {},
   "outputs": [
    {
     "name": "stderr",
     "output_type": "stream",
     "text": [
      "/home/ayantika/anaconda3/lib/python3.7/site-packages/xgboost/core.py:587: FutureWarning: Series.base is deprecated and will be removed in a future version\n",
      "  if getattr(data, 'base', None) is not None and \\\n"
     ]
    },
    {
     "name": "stdout",
     "output_type": "stream",
     "text": [
      "[20:09:34] WARNING: /workspace/src/objective/regression_obj.cu:152: reg:linear is now deprecated in favor of reg:squarederror.\n",
      "Explained_variance_score : 0.6221962061341628\n",
      "R2 Score : 0.7530391300954867\n"
     ]
    }
   ],
   "source": [
    "#On cross Validation Set\n",
    "xgb = xgboost.XGBRegressor(n_estimators=100, learning_rate=0.08, gamma=0, subsample=0.7,\n",
    "                           colsample_bytree=1, max_depth=7)\n",
    "xgb.fit(X_train,y_train_new)\n",
    "predictions = np.exp(xgb.predict(X_test))\n",
    "print(\"Explained_variance_score :\",explained_variance_score(predictions,y_test))\n",
    "print(\"R2 Score :\",r2_score(y_test, predictions))\n"
   ]
  },
  {
   "cell_type": "code",
   "execution_count": 383,
   "metadata": {},
   "outputs": [
    {
     "name": "stdout",
     "output_type": "stream",
     "text": [
      "Explained_variance_score : 0.7217844618924285\n",
      "R2 Score : 0.8250428647141711\n"
     ]
    }
   ],
   "source": [
    "#on training Set\n",
    "predictions1 = np.exp(xgb.predict(X_train))\n",
    "print(\"Explained_variance_score :\",explained_variance_score(predictions1,y_train))\n",
    "print(\"R2 Score :\",r2_score(y_train, predictions1))\n"
   ]
  },
  {
   "cell_type": "code",
   "execution_count": 384,
   "metadata": {},
   "outputs": [],
   "source": [
    "df_rf = pd.DataFrame(y_test) "
   ]
  },
  {
   "cell_type": "code",
   "execution_count": 404,
   "metadata": {},
   "outputs": [],
   "source": [
    "df_rf['Predicted_xgb']=np.exp(y_pred)\n",
    "df_rf.to_csv('df_rf.csv') "
   ]
  },
  {
   "cell_type": "code",
   "execution_count": 386,
   "metadata": {},
   "outputs": [
    {
     "data": {
      "text/html": [
       "<div>\n",
       "<style scoped>\n",
       "    .dataframe tbody tr th:only-of-type {\n",
       "        vertical-align: middle;\n",
       "    }\n",
       "\n",
       "    .dataframe tbody tr th {\n",
       "        vertical-align: top;\n",
       "    }\n",
       "\n",
       "    .dataframe thead th {\n",
       "        text-align: right;\n",
       "    }\n",
       "</style>\n",
       "<table border=\"1\" class=\"dataframe\">\n",
       "  <thead>\n",
       "    <tr style=\"text-align: right;\">\n",
       "      <th></th>\n",
       "      <th>Customer Lifetime Value</th>\n",
       "      <th>Predicted_xgb</th>\n",
       "    </tr>\n",
       "  </thead>\n",
       "  <tbody>\n",
       "    <tr>\n",
       "      <th>3261</th>\n",
       "      <td>2807.049427</td>\n",
       "      <td>2806.613245</td>\n",
       "    </tr>\n",
       "    <tr>\n",
       "      <th>5319</th>\n",
       "      <td>5657.685223</td>\n",
       "      <td>5575.640460</td>\n",
       "    </tr>\n",
       "    <tr>\n",
       "      <th>8656</th>\n",
       "      <td>36632.534320</td>\n",
       "      <td>24123.900635</td>\n",
       "    </tr>\n",
       "    <tr>\n",
       "      <th>9023</th>\n",
       "      <td>2117.989147</td>\n",
       "      <td>2217.818367</td>\n",
       "    </tr>\n",
       "    <tr>\n",
       "      <th>2971</th>\n",
       "      <td>3086.013544</td>\n",
       "      <td>3023.651137</td>\n",
       "    </tr>\n",
       "  </tbody>\n",
       "</table>\n",
       "</div>"
      ],
      "text/plain": [
       "      Customer Lifetime Value  Predicted_xgb\n",
       "3261              2807.049427    2806.613245\n",
       "5319              5657.685223    5575.640460\n",
       "8656             36632.534320   24123.900635\n",
       "9023              2117.989147    2217.818367\n",
       "2971              3086.013544    3023.651137"
      ]
     },
     "execution_count": 386,
     "metadata": {},
     "output_type": "execute_result"
    }
   ],
   "source": [
    "df_rf.head()"
   ]
  },
  {
   "cell_type": "code",
   "execution_count": 405,
   "metadata": {},
   "outputs": [],
   "source": [
    "df_rf_train=pd.DataFrame(y_train)\n",
    "df_rf_train['Predicted_xgb']=predictions_rf\n",
    "df_rf_train.to_csv('df_rf_train.csv') "
   ]
  },
  {
   "cell_type": "code",
   "execution_count": 388,
   "metadata": {},
   "outputs": [
    {
     "data": {
      "text/html": [
       "<div>\n",
       "<style scoped>\n",
       "    .dataframe tbody tr th:only-of-type {\n",
       "        vertical-align: middle;\n",
       "    }\n",
       "\n",
       "    .dataframe tbody tr th {\n",
       "        vertical-align: top;\n",
       "    }\n",
       "\n",
       "    .dataframe thead th {\n",
       "        text-align: right;\n",
       "    }\n",
       "</style>\n",
       "<table border=\"1\" class=\"dataframe\">\n",
       "  <thead>\n",
       "    <tr style=\"text-align: right;\">\n",
       "      <th></th>\n",
       "      <th>Customer Lifetime Value</th>\n",
       "      <th>Predicted_xgb</th>\n",
       "    </tr>\n",
       "  </thead>\n",
       "  <tbody>\n",
       "    <tr>\n",
       "      <th>5025</th>\n",
       "      <td>4407.973120</td>\n",
       "      <td>4421.094218</td>\n",
       "    </tr>\n",
       "    <tr>\n",
       "      <th>2527</th>\n",
       "      <td>6102.953572</td>\n",
       "      <td>6058.068000</td>\n",
       "    </tr>\n",
       "    <tr>\n",
       "      <th>5589</th>\n",
       "      <td>13248.637350</td>\n",
       "      <td>14262.130609</td>\n",
       "    </tr>\n",
       "    <tr>\n",
       "      <th>4848</th>\n",
       "      <td>19160.989940</td>\n",
       "      <td>19160.989940</td>\n",
       "    </tr>\n",
       "    <tr>\n",
       "      <th>6582</th>\n",
       "      <td>5479.555081</td>\n",
       "      <td>5475.417134</td>\n",
       "    </tr>\n",
       "  </tbody>\n",
       "</table>\n",
       "</div>"
      ],
      "text/plain": [
       "      Customer Lifetime Value  Predicted_xgb\n",
       "5025              4407.973120    4421.094218\n",
       "2527              6102.953572    6058.068000\n",
       "5589             13248.637350   14262.130609\n",
       "4848             19160.989940   19160.989940\n",
       "6582              5479.555081    5475.417134"
      ]
     },
     "execution_count": 388,
     "metadata": {},
     "output_type": "execute_result"
    }
   ],
   "source": [
    "df_rf_train.head()"
   ]
  },
  {
   "cell_type": "code",
   "execution_count": 389,
   "metadata": {},
   "outputs": [],
   "source": [
    "result=pd.concat([df_rf,df_rf_train])\n",
    "result.to_csv('results.csv') "
   ]
  },
  {
   "cell_type": "code",
   "execution_count": 390,
   "metadata": {},
   "outputs": [],
   "source": [
    "def mean_absolute_percentage_error(y_test, predictions): \n",
    "    y_true, y_pred = np.array(y_test), np.array(predictions)\n",
    "    return np.mean(np.abs((y_true - y_pred) / y_true)) * 100"
   ]
  },
  {
   "cell_type": "code",
   "execution_count": 391,
   "metadata": {},
   "outputs": [
    {
     "name": "stdout",
     "output_type": "stream",
     "text": [
      "mean_absolute_percentage_error on CrossValidation set(Random Forest) 8.592100911317885\n",
      "mean_absolute_percentage_error on Training set(Random Forest) 3.3494212958850986\n",
      "mean_absolute_percentage_error on CrossValidation set(XGBoost) 9.403043412539372\n",
      "mean_absolute_percentage_error on Training set(XGBoost) 7.372936932622327\n"
     ]
    }
   ],
   "source": [
    "print(\"mean_absolute_percentage_error on CrossValidation set(Random Forest)\",mean_absolute_percentage_error(y_test,np.exp(y_pred)))\n",
    "print(\"mean_absolute_percentage_error on Training set(Random Forest)\",mean_absolute_percentage_error(y_train, predictions_rf))\n",
    "print(\"mean_absolute_percentage_error on CrossValidation set(XGBoost)\",mean_absolute_percentage_error(y_test, predictions))\n",
    "print(\"mean_absolute_percentage_error on Training set(XGBoost)\",mean_absolute_percentage_error(y_train, predictions1))\n"
   ]
  },
  {
   "cell_type": "code",
   "execution_count": 392,
   "metadata": {},
   "outputs": [
    {
     "name": "stdout",
     "output_type": "stream",
     "text": [
      "R2 square on CrossValidation set(Random Forest) 0.7757258715062711\n",
      "R2 square on Training set(Random Forest) 0.9442085994618442\n",
      "R2 square on CrossValidation set(XGBoost) 0.7530391300954867\n",
      "R2 square on Training set(XGBoost) 0.8250428647141711\n"
     ]
    }
   ],
   "source": [
    "R2cv1=r2_score(y_test,np.exp(y_pred))\n",
    "R2t1=r2_score(y_train, predictions_rf)\n",
    "R2cv2=r2_score(y_test, predictions)\n",
    "R2t2=r2_score(y_train, predictions1)\n",
    "print(\"R2 square on CrossValidation set(Random Forest)\",R2cv1)\n",
    "print(\"R2 square on Training set(Random Forest)\",R2t1)\n",
    "print(\"R2 square on CrossValidation set(XGBoost)\",R2cv2)\n",
    "print(\"R2 square on Training set(XGBoost)\",R2t2)"
   ]
  },
  {
   "cell_type": "code",
   "execution_count": 396,
   "metadata": {},
   "outputs": [],
   "source": [
    "def adj(X,y,r_squared):\n",
    "    adjusted_r_squared = 1 - (1-r_squared)*(len(y)-1)/(len(y)-X.shape[1]-1)\n",
    "    return(adjusted_r_squared)"
   ]
  },
  {
   "cell_type": "code",
   "execution_count": 403,
   "metadata": {},
   "outputs": [
    {
     "name": "stdout",
     "output_type": "stream",
     "text": [
      "adjusted R2 score on CrossValidation set(Random Forest 0.6598509051178445\n",
      "adjusted R2 score on Training set(Random Forest) 0.9438194155246968\n",
      "adjusted R2 score on CrossValidation set(XGBoost) 0.6254426806448216\n",
      "adjusted R2 score on Training set(XGBoost) 0.8238224166507461\n"
     ]
    }
   ],
   "source": [
    "print(\"adjusted R2 score on CrossValidation set(Random Forest\",adj(X_test,y_test,R2cv1))\n",
    "print(\"adjusted R2 score on Training set(Random Forest)\",adj(X_train,y_train,R2t1))\n",
    "print(\"adjusted R2 score on CrossValidation set(XGBoost)\",adj(X_test,y_test,R2cv2))\n",
    "print(\"adjusted R2 score on Training set(XGBoost)\",adj(X_train,y_train,R2t2))"
   ]
  },
  {
   "cell_type": "markdown",
   "metadata": {},
   "source": [
    "\n",
    "Model Name\n",
    "R2- Score\n",
    "Adjusted R2-Score\n",
    "Mean Absolute Percentage Error (MAPE)\n",
    "XGBoost Regressor \n",
    "(Validation Set)\n",
    "0.753\n",
    "\n",
    "\n",
    "0.625\n",
    "\n",
    "\n",
    "9.403\n",
    "\n",
    "\n",
    "XGBoost Regressor \n",
    "(Training Set)\n",
    "\n",
    "\n",
    "0.825\n",
    "0.824\n",
    "\n",
    "\n",
    "7.373\n",
    "\n",
    "\n",
    "Random Forest Regression(\n",
    "Validation Set)\n",
    "0.776\n",
    "\n",
    "\n",
    "0.659\n",
    "\n",
    "\n",
    "8.592\n",
    "\n",
    "\n",
    "Random Forest Regression(Training Set)\n",
    "0.944\n",
    "\n",
    "\n",
    "0.944\n",
    "\n",
    "\n",
    "3.349\n"
   ]
  },
  {
   "cell_type": "code",
   "execution_count": null,
   "metadata": {},
   "outputs": [],
   "source": []
  }
 ],
 "metadata": {
  "kernelspec": {
   "display_name": "Python 3",
   "language": "python",
   "name": "python3"
  },
  "language_info": {
   "codemirror_mode": {
    "name": "ipython",
    "version": 3
   },
   "file_extension": ".py",
   "mimetype": "text/x-python",
   "name": "python",
   "nbconvert_exporter": "python",
   "pygments_lexer": "ipython3",
   "version": "3.7.3"
  }
 },
 "nbformat": 4,
 "nbformat_minor": 2
}
